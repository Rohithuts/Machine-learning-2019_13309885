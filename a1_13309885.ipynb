{
  "nbformat": 4,
  "nbformat_minor": 0,
  "metadata": {
    "colab": {
      "name": "Untitled7.ipynb",
      "version": "0.3.2",
      "provenance": [],
      "include_colab_link": true
    },
    "kernelspec": {
      "name": "python3",
      "display_name": "Python 3"
    }
  },
  "cells": [
    {
      "cell_type": "markdown",
      "metadata": {
        "id": "view-in-github",
        "colab_type": "text"
      },
      "source": [
        "<a href=\"https://colab.research.google.com/github/Rohithuts/Machine-learning-2019_13309885/blob/master/a1_13309885.ipynb\" target=\"_parent\"><img src=\"https://colab.research.google.com/assets/colab-badge.svg\" alt=\"Open In Colab\"/></a>"
      ]
    },
    {
      "cell_type": "code",
      "metadata": {
        "id": "BOuIxAzUBBQ1",
        "colab_type": "code",
        "colab": {}
      },
      "source": [
        ""
      ],
      "execution_count": 0,
      "outputs": []
    },
    {
      "cell_type": "markdown",
      "metadata": {
        "id": "i1SpEiYKBCI9",
        "colab_type": "text"
      },
      "source": [
        "\n",
        "#Introduction\n",
        "A CNN is a deep learning algorithm which can take in an input image. Deep learning is the branch of Artificial intelligence in which the input is not classified or labelled . The progress in Computer Vision, a technology that enables machines to see the world as humans do and extract information from it, has been primarily over CNNs.\n",
        "A convolutional NN takes images as its input data. In this image importance is assigned to various objects that match the pre-defined characteristics. Based on the underlying objective, objects can be differentiated, detected and the data can be utilized for a number of purposes.\n",
        "The factor that has caused CNNs to be used widely in Computer vision is the requirement of less-preprocessing of images against other algorithms whose pre-processing requirements are not easily met.\n",
        "The idea of CNNs is analogous to the pattern of connectivity of neurons in the human brain. Its inspiration came from the functioning of the visual cortex. In it, individual neurons are restricted to analyse in a bounded region of field. The response of a number of neuron contributes to give a final indication. Same goes for the CNNs.\n",
        "In CNNs, the image processing is done by considering an image as a matrix of the values of the three basic colours[R,B,G] at different points(position of a matrix). The usage of Linear (matrix)algebra is thus very useful to this field and forms the basis of all operations that is done to extract the data from the image. After proposing a physical object to be detected, its corresponding features as a set of points in the image matrix are analysed . To the various characteristics, weights are assigned and eventually it is decided by the computer whether the given image qualifies as having a certain object subject to various thresholds that are set in its algorithm.\n",
        "#Content\n",
        "In this paper, they have acknowledged the problem that as image size and quality is growing so fast, which often requires several hundreds pixels which provides us with tons of parameters to study and recognize. Another problem that has been faced in the recognition of individual characters and symbols and how the system generally lacks the recognition of incomplete design and so they are entirely ignored and thus rejected.\n",
        "In this research paper, the team of researchers have proposed a novel and more efficient approach called convolutional neural networks with GTN or graph transformer networks. They have also verified that this technique has out performed all existing machine learning techniques.\n",
        "For real-world problems, hand writing and document recognition systems consists of many modules. GTN allows such multi-modules systems to be trained globally using gradient-based methods. A graph transformer network for reading and recognizing has also been discussed.\n",
        "In this method, GTN along with global training techniques are used to provide an accuracy on business and personal checks.\n",
        "It uses neural network character recognizer. Artificial neural networks or connectionist systems are computing systems that learn to perform takes by considering examples, generally programmed with task-specific rules.\n",
        "They interpret sensory data through a kind of machine perception, labelling or clustering raw input.\n",
        "Back-propagation techniques have also been used. It is an algorithm for supervised learning of artificial neural networks using gradient descent. Given an artificial neural network and an error function, the method calculates the gradient of the error function with respect to the neural networks weights.\n",
        "As training data increases, the computer gets faster and more efficient.\n",
        "Various methods applied to handwritten characters recognition and compares them on a standard handwritten digit recognition task.\n",
        " # Technical Quality\n",
        "It is research which based on gradient based learning. The main purpose of this report is that better pattern of recognition system can be built by relying more on automatic learning and less on hand designed . This is only possible through machine learning . Most successful approaches to automatic machine learning is gradient based learning graph. Composing is very easy and efficiently for implementation. Heuristic segmentation is sufficient and best method for dictate character additional training data was generated to enhance rowness of the reconizers. In the first expression , there is an ability of neural network. The second and third set of expression recognition of low words. Another reason for using such distributed codes, rather than one more important         \n",
        " #Innovation\n",
        "One of the most important innovation in gradient based learning is graph transform Network. With the introduction of Graph Transform Network, it has become much easier and simpler to reorganize variable length objects with manipulated directed graphs. Graph transformer network can be built using multi module system which are very much flexible at multi module system refines the interpretation progressively. Graph transform networks are formulated using the general graph composition. Graph transformer network takes both inputs and outputs as graphs to understand the information in a better manner . Thus , multi modules are referred to as graph transformer and the whole system is known as Graph Transform Network. \n",
        "Graphs in GTN represent the state of probability distributions including structured collections. The innovation we are talking about is a unified and well principled model or prototype.\n",
        "The GTN was composed of four main graph transformers with heuristic over segmentation approach, the segmentation transformer, the character recognition transformer, the composition transformer and the beam search transformer. With SDNN approach:  The SDNN transformer, character level composition transformer, word level composition transformer and beam search transformer.\n",
        "This innovation of graph transformer networks will be surely applied in future with the hope that it will be more reliable on automatic learning and less on detailed engineering. \n",
        " #APPLICATIONS:\n",
        "Gradient based learning can be used to minimize an overall loss function which measures the probability of an erroneous answer.\n",
        "Section5 of it introduces the use of the directed acyclic graphs whose arcs carry numerical info as a way to represent the alternative hypothesis and introduces graph transform network (GTN) GTN that takes linguistic constrains into account and finally extracts the most likely interpretation.\n",
        "Convolution neural networks , a technique which is quiet expensive in general case it makes it particularly attractive because it allows significant savings in computational cost.\n",
        "Simple applications of CNN in everyday life are obvious choices like Facial Recognition software, image classification, speech recognition programs etc.\n",
        "         DECODING FACIAL RECOGNISTION:\n",
        "Facial recognition is broken down by a CNN into the following major components :  \n",
        "Identifying every face in the picture,\n",
        " Focusing on each face despite external factors such as light , angle, pose etc. , identifying unique features, comparing all the collected data with already existing data in the database to match a face with a name. A similar process is followed for scene labeling as well. \n",
        "Analysing documents – CNNs can also be used for document analysis. This is not just useful for handwriting analysis , but also has a major stake in recognisers for a machine to be able to scan an individual writing and then compare that to the wide database it has , it must execute almost a million commands a minute. It is said with the use of CNNs , and newer models and algorithms, the error rate has been brought down to a minimum of 0.4 % at a character level, though its complete testing is yet to be widely seen. \n",
        "Historic and environmental collections – CNNs are also used for complex purposes such as natural history collections. These collections act as key players in documenting major parts of history such as biodiversity, evolution, habitat loss, biological invasion and climate change. \n",
        "Advertising – CNNs have already brought in a world of difference to advertising with the introduction of programmatic buying and data – driven personalized advertising.\n",
        "#Presentation\n",
        "The abstract crisply describes the subject matter of the research paper. The introduction starts with an imperative background and gives  sound arguments about the techniques employed. Nomenclature has been provided to avoid ambiguity. Usage of diagrams has been done to get to know the intuition. The introduction is very long, equations are given with an intuition and lesser content is there about their background.\n",
        "The content after introduction is well structured. The various application of neural networks are discussed in detail. The corresponding implementation techniques are also given which further gives useful insight. Various images and graphs have been given to visualize the data apart from just discussing about techniques. The mathematical background aspect that seems to be missing in beginning is covered in the later part and the whole publication gives the feel of completeness.\n",
        ".\n"
      ]
    }
  ]
}